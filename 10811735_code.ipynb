{
 "cells": [
  {
   "cell_type": "markdown",
   "metadata": {},
   "source": [
    "Extablishing Twiiter Connection"
   ]
  },
  {
   "cell_type": "code",
   "execution_count": 8,
   "metadata": {},
   "outputs": [
    {
     "name": "stdout",
     "output_type": "stream",
     "text": [
      "Successfully connected to the Twitter API.\n"
     ]
    }
   ],
   "source": [
    "import tweepy\n",
    "import pandas as pd\n",
    "\n",
    "api_key = 'yZ6E6wCJh5BpYD6hLSy07aesi'\n",
    "api_key_secret = 's98RUSMsrwWNdzkhxMp2a1Jhawy2CYxLgHrFAEl8Itc3JbaGbN'\n",
    "\n",
    "access_token = '1082021464986054657-BxSzIQDe1YPef2WPIsU5bijWbs5NBW'\n",
    "access_token_secret = 'KfvBonYBQOArHZJkQ0vmcfmDIGne1QJf3LuRLucBY9uVe'\n",
    "\n",
    "# authentication\n",
    "auth = tweepy.OAuthHandler(api_key, api_key_secret)\n",
    "auth.set_access_token(access_token, access_token_secret)\n",
    "\n",
    "api = tweepy.API(auth, wait_on_rate_limit=True)\n",
    "\n",
    "print(\"Successfully connected to the Twitter API.\")"
   ]
  },
  {
   "cell_type": "markdown",
   "metadata": {},
   "source": [
    "Fetching Trends"
   ]
  },
  {
   "cell_type": "code",
   "execution_count": null,
   "metadata": {},
   "outputs": [],
   "source": [
    "keyword = \"ghana\"\n",
    "limit = 1000\n",
    "trends = []\n",
    "\n",
    "tweets = tweepy.Cursor(\n",
    "        api.search_tweets, q=keyword, count=100, tweet_mode=\"extended\", lang='en'\n",
    "    ).items(limit)\n",
    "\n",
    "trends.extend(tweets)\n"
   ]
  },
  {
   "cell_type": "code",
   "execution_count": 24,
   "metadata": {},
   "outputs": [],
   "source": [
    "lists = []\n",
    "\n",
    "for t in trends:\n",
    "    lists.append([t.id_str, t.user.screen_name, t.full_text, t.created_at, t.lang, t.user.profile_image_url, t.user.name])\n",
    "\n",
    "tweet_df = pd.DataFrame(lists)"
   ]
  },
  {
   "cell_type": "code",
   "execution_count": 25,
   "metadata": {},
   "outputs": [
    {
     "data": {
      "text/html": [
       "<div>\n",
       "<style scoped>\n",
       "    .dataframe tbody tr th:only-of-type {\n",
       "        vertical-align: middle;\n",
       "    }\n",
       "\n",
       "    .dataframe tbody tr th {\n",
       "        vertical-align: top;\n",
       "    }\n",
       "\n",
       "    .dataframe thead th {\n",
       "        text-align: right;\n",
       "    }\n",
       "</style>\n",
       "<table border=\"1\" class=\"dataframe\">\n",
       "  <thead>\n",
       "    <tr style=\"text-align: right;\">\n",
       "      <th></th>\n",
       "      <th>ID</th>\n",
       "      <th>User</th>\n",
       "      <th>Tweet_Text</th>\n",
       "      <th>Date_Created</th>\n",
       "      <th>Lang</th>\n",
       "      <th>Profile_Pic</th>\n",
       "      <th>Name</th>\n",
       "    </tr>\n",
       "  </thead>\n",
       "  <tbody>\n",
       "    <tr>\n",
       "      <th>0</th>\n",
       "      <td>1559097380301070337</td>\n",
       "      <td>R_AMedia</td>\n",
       "      <td>#rugbyleague\\nThe Middle East &amp;amp; Africa (ME...</td>\n",
       "      <td>2022-08-15 08:39:16+00:00</td>\n",
       "      <td>en</td>\n",
       "      <td>http://pbs.twimg.com/profile_images/1547498947...</td>\n",
       "      <td>Rachel Ankomah Media</td>\n",
       "    </tr>\n",
       "    <tr>\n",
       "      <th>1</th>\n",
       "      <td>1559097359501598722</td>\n",
       "      <td>blacksperms_</td>\n",
       "      <td>RT @Amerado_Burner: The only peaceful rest is ...</td>\n",
       "      <td>2022-08-15 08:39:11+00:00</td>\n",
       "      <td>en</td>\n",
       "      <td>http://pbs.twimg.com/profile_images/1532653273...</td>\n",
       "      <td>BLACK SPERMS</td>\n",
       "    </tr>\n",
       "    <tr>\n",
       "      <th>2</th>\n",
       "      <td>1559097353965109248</td>\n",
       "      <td>NattyLeeCl</td>\n",
       "      <td>RT @the_marcoli_boy: Retweet my pinned tweet a...</td>\n",
       "      <td>2022-08-15 08:39:10+00:00</td>\n",
       "      <td>en</td>\n",
       "      <td>http://pbs.twimg.com/profile_images/1537019507...</td>\n",
       "      <td>🆑♥️♥️♥️</td>\n",
       "    </tr>\n",
       "    <tr>\n",
       "      <th>3</th>\n",
       "      <td>1559097339717062658</td>\n",
       "      <td>surr_mike</td>\n",
       "      <td>RT @DJ_Sydney_: Welcome to Ghana where basketb...</td>\n",
       "      <td>2022-08-15 08:39:07+00:00</td>\n",
       "      <td>en</td>\n",
       "      <td>http://pbs.twimg.com/profile_images/1553058048...</td>\n",
       "      <td>Free Spirit 🕊</td>\n",
       "    </tr>\n",
       "    <tr>\n",
       "      <th>4</th>\n",
       "      <td>1559097334927355904</td>\n",
       "      <td>Hambakubvu</td>\n",
       "      <td>@st_bourke @kiwiwayne2 Zero English in Africa?...</td>\n",
       "      <td>2022-08-15 08:39:05+00:00</td>\n",
       "      <td>en</td>\n",
       "      <td>http://pbs.twimg.com/profile_images/1483866452...</td>\n",
       "      <td>Fork Tailed Drongo</td>\n",
       "    </tr>\n",
       "  </tbody>\n",
       "</table>\n",
       "</div>"
      ],
      "text/plain": [
       "                    ID          User  \\\n",
       "0  1559097380301070337      R_AMedia   \n",
       "1  1559097359501598722  blacksperms_   \n",
       "2  1559097353965109248    NattyLeeCl   \n",
       "3  1559097339717062658     surr_mike   \n",
       "4  1559097334927355904    Hambakubvu   \n",
       "\n",
       "                                          Tweet_Text  \\\n",
       "0  #rugbyleague\\nThe Middle East &amp; Africa (ME...   \n",
       "1  RT @Amerado_Burner: The only peaceful rest is ...   \n",
       "2  RT @the_marcoli_boy: Retweet my pinned tweet a...   \n",
       "3  RT @DJ_Sydney_: Welcome to Ghana where basketb...   \n",
       "4  @st_bourke @kiwiwayne2 Zero English in Africa?...   \n",
       "\n",
       "               Date_Created Lang  \\\n",
       "0 2022-08-15 08:39:16+00:00   en   \n",
       "1 2022-08-15 08:39:11+00:00   en   \n",
       "2 2022-08-15 08:39:10+00:00   en   \n",
       "3 2022-08-15 08:39:07+00:00   en   \n",
       "4 2022-08-15 08:39:05+00:00   en   \n",
       "\n",
       "                                         Profile_Pic                  Name  \n",
       "0  http://pbs.twimg.com/profile_images/1547498947...  Rachel Ankomah Media  \n",
       "1  http://pbs.twimg.com/profile_images/1532653273...          BLACK SPERMS  \n",
       "2  http://pbs.twimg.com/profile_images/1537019507...               🆑♥️♥️♥️  \n",
       "3  http://pbs.twimg.com/profile_images/1553058048...         Free Spirit 🕊  \n",
       "4  http://pbs.twimg.com/profile_images/1483866452...    Fork Tailed Drongo  "
      ]
     },
     "execution_count": 25,
     "metadata": {},
     "output_type": "execute_result"
    }
   ],
   "source": [
    "columns = [\"ID\", \"User\", \"Tweet_Text\", \"Date_Created\", \"Lang\", \"Profile_Pic\", \"Name\"]\n",
    "tweet_df.columns = columns\n",
    "tweet_df.head()"
   ]
  },
  {
   "cell_type": "code",
   "execution_count": 26,
   "metadata": {},
   "outputs": [],
   "source": [
    "tweet_df.to_csv(\"tweets.csv\", index=False)\n"
   ]
  },
  {
   "cell_type": "markdown",
   "metadata": {},
   "source": [
    "First Five rows"
   ]
  },
  {
   "cell_type": "code",
   "execution_count": 27,
   "metadata": {},
   "outputs": [
    {
     "data": {
      "text/html": [
       "<div>\n",
       "<style scoped>\n",
       "    .dataframe tbody tr th:only-of-type {\n",
       "        vertical-align: middle;\n",
       "    }\n",
       "\n",
       "    .dataframe tbody tr th {\n",
       "        vertical-align: top;\n",
       "    }\n",
       "\n",
       "    .dataframe thead th {\n",
       "        text-align: right;\n",
       "    }\n",
       "</style>\n",
       "<table border=\"1\" class=\"dataframe\">\n",
       "  <thead>\n",
       "    <tr style=\"text-align: right;\">\n",
       "      <th></th>\n",
       "      <th>ID</th>\n",
       "      <th>User</th>\n",
       "      <th>Tweet_Text</th>\n",
       "      <th>Date_Created</th>\n",
       "      <th>Lang</th>\n",
       "      <th>Profile_Pic</th>\n",
       "      <th>Name</th>\n",
       "    </tr>\n",
       "  </thead>\n",
       "  <tbody>\n",
       "    <tr>\n",
       "      <th>0</th>\n",
       "      <td>1559097380301070337</td>\n",
       "      <td>R_AMedia</td>\n",
       "      <td>#rugbyleague\\nThe Middle East &amp;amp; Africa (ME...</td>\n",
       "      <td>2022-08-15 08:39:16+00:00</td>\n",
       "      <td>en</td>\n",
       "      <td>http://pbs.twimg.com/profile_images/1547498947...</td>\n",
       "      <td>Rachel Ankomah Media</td>\n",
       "    </tr>\n",
       "    <tr>\n",
       "      <th>1</th>\n",
       "      <td>1559097359501598722</td>\n",
       "      <td>blacksperms_</td>\n",
       "      <td>RT @Amerado_Burner: The only peaceful rest is ...</td>\n",
       "      <td>2022-08-15 08:39:11+00:00</td>\n",
       "      <td>en</td>\n",
       "      <td>http://pbs.twimg.com/profile_images/1532653273...</td>\n",
       "      <td>BLACK SPERMS</td>\n",
       "    </tr>\n",
       "    <tr>\n",
       "      <th>2</th>\n",
       "      <td>1559097353965109248</td>\n",
       "      <td>NattyLeeCl</td>\n",
       "      <td>RT @the_marcoli_boy: Retweet my pinned tweet a...</td>\n",
       "      <td>2022-08-15 08:39:10+00:00</td>\n",
       "      <td>en</td>\n",
       "      <td>http://pbs.twimg.com/profile_images/1537019507...</td>\n",
       "      <td>🆑♥️♥️♥️</td>\n",
       "    </tr>\n",
       "    <tr>\n",
       "      <th>3</th>\n",
       "      <td>1559097339717062658</td>\n",
       "      <td>surr_mike</td>\n",
       "      <td>RT @DJ_Sydney_: Welcome to Ghana where basketb...</td>\n",
       "      <td>2022-08-15 08:39:07+00:00</td>\n",
       "      <td>en</td>\n",
       "      <td>http://pbs.twimg.com/profile_images/1553058048...</td>\n",
       "      <td>Free Spirit 🕊</td>\n",
       "    </tr>\n",
       "    <tr>\n",
       "      <th>4</th>\n",
       "      <td>1559097334927355904</td>\n",
       "      <td>Hambakubvu</td>\n",
       "      <td>@st_bourke @kiwiwayne2 Zero English in Africa?...</td>\n",
       "      <td>2022-08-15 08:39:05+00:00</td>\n",
       "      <td>en</td>\n",
       "      <td>http://pbs.twimg.com/profile_images/1483866452...</td>\n",
       "      <td>Fork Tailed Drongo</td>\n",
       "    </tr>\n",
       "  </tbody>\n",
       "</table>\n",
       "</div>"
      ],
      "text/plain": [
       "                    ID          User  \\\n",
       "0  1559097380301070337      R_AMedia   \n",
       "1  1559097359501598722  blacksperms_   \n",
       "2  1559097353965109248    NattyLeeCl   \n",
       "3  1559097339717062658     surr_mike   \n",
       "4  1559097334927355904    Hambakubvu   \n",
       "\n",
       "                                          Tweet_Text  \\\n",
       "0  #rugbyleague\\nThe Middle East &amp; Africa (ME...   \n",
       "1  RT @Amerado_Burner: The only peaceful rest is ...   \n",
       "2  RT @the_marcoli_boy: Retweet my pinned tweet a...   \n",
       "3  RT @DJ_Sydney_: Welcome to Ghana where basketb...   \n",
       "4  @st_bourke @kiwiwayne2 Zero English in Africa?...   \n",
       "\n",
       "                Date_Created Lang  \\\n",
       "0  2022-08-15 08:39:16+00:00   en   \n",
       "1  2022-08-15 08:39:11+00:00   en   \n",
       "2  2022-08-15 08:39:10+00:00   en   \n",
       "3  2022-08-15 08:39:07+00:00   en   \n",
       "4  2022-08-15 08:39:05+00:00   en   \n",
       "\n",
       "                                         Profile_Pic                  Name  \n",
       "0  http://pbs.twimg.com/profile_images/1547498947...  Rachel Ankomah Media  \n",
       "1  http://pbs.twimg.com/profile_images/1532653273...          BLACK SPERMS  \n",
       "2  http://pbs.twimg.com/profile_images/1537019507...               🆑♥️♥️♥️  \n",
       "3  http://pbs.twimg.com/profile_images/1553058048...         Free Spirit 🕊  \n",
       "4  http://pbs.twimg.com/profile_images/1483866452...    Fork Tailed Drongo  "
      ]
     },
     "execution_count": 27,
     "metadata": {},
     "output_type": "execute_result"
    }
   ],
   "source": [
    "df = pd.read_csv(\"tweets.csv\")\n",
    "df.head()"
   ]
  },
  {
   "cell_type": "markdown",
   "metadata": {},
   "source": [
    "Info"
   ]
  },
  {
   "cell_type": "code",
   "execution_count": 28,
   "metadata": {},
   "outputs": [
    {
     "name": "stdout",
     "output_type": "stream",
     "text": [
      "<class 'pandas.core.frame.DataFrame'>\n",
      "RangeIndex: 1000 entries, 0 to 999\n",
      "Data columns (total 7 columns):\n",
      " #   Column        Non-Null Count  Dtype \n",
      "---  ------        --------------  ----- \n",
      " 0   ID            1000 non-null   int64 \n",
      " 1   User          1000 non-null   object\n",
      " 2   Tweet_Text    1000 non-null   object\n",
      " 3   Date_Created  1000 non-null   object\n",
      " 4   Lang          1000 non-null   object\n",
      " 5   Profile_Pic   1000 non-null   object\n",
      " 6   Name          1000 non-null   object\n",
      "dtypes: int64(1), object(6)\n",
      "memory usage: 54.8+ KB\n"
     ]
    }
   ],
   "source": [
    "df.info()"
   ]
  },
  {
   "cell_type": "code",
   "execution_count": 29,
   "metadata": {},
   "outputs": [
    {
     "data": {
      "text/plain": [
       "ID              0\n",
       "User            0\n",
       "Tweet_Text      0\n",
       "Date_Created    0\n",
       "Lang            0\n",
       "Profile_Pic     0\n",
       "Name            0\n",
       "dtype: int64"
      ]
     },
     "execution_count": 29,
     "metadata": {},
     "output_type": "execute_result"
    }
   ],
   "source": [
    "df.isna().sum()"
   ]
  },
  {
   "cell_type": "code",
   "execution_count": 30,
   "metadata": {},
   "outputs": [
    {
     "data": {
      "text/plain": [
       "'en'"
      ]
     },
     "execution_count": 30,
     "metadata": {},
     "output_type": "execute_result"
    }
   ],
   "source": [
    "df.Lang.unique().sum()"
   ]
  },
  {
   "cell_type": "code",
   "execution_count": 33,
   "metadata": {},
   "outputs": [
    {
     "data": {
      "text/html": [
       "<div>\n",
       "<style scoped>\n",
       "    .dataframe tbody tr th:only-of-type {\n",
       "        vertical-align: middle;\n",
       "    }\n",
       "\n",
       "    .dataframe tbody tr th {\n",
       "        vertical-align: top;\n",
       "    }\n",
       "\n",
       "    .dataframe thead th {\n",
       "        text-align: right;\n",
       "    }\n",
       "</style>\n",
       "<table border=\"1\" class=\"dataframe\">\n",
       "  <thead>\n",
       "    <tr style=\"text-align: right;\">\n",
       "      <th></th>\n",
       "      <th>Name</th>\n",
       "      <th>count</th>\n",
       "    </tr>\n",
       "  </thead>\n",
       "  <tbody>\n",
       "    <tr>\n",
       "      <th>236</th>\n",
       "      <td>Ghana Yesu ☦️</td>\n",
       "      <td>45</td>\n",
       "    </tr>\n",
       "    <tr>\n",
       "      <th>489</th>\n",
       "      <td>Rowland🤍</td>\n",
       "      <td>39</td>\n",
       "    </tr>\n",
       "    <tr>\n",
       "      <th>387</th>\n",
       "      <td>NATIONAL SERVICE SCHEME 🇬🇭</td>\n",
       "      <td>29</td>\n",
       "    </tr>\n",
       "    <tr>\n",
       "      <th>604</th>\n",
       "      <td>eGotickets</td>\n",
       "      <td>17</td>\n",
       "    </tr>\n",
       "    <tr>\n",
       "      <th>281</th>\n",
       "      <td>Jayke Computers</td>\n",
       "      <td>12</td>\n",
       "    </tr>\n",
       "    <tr>\n",
       "      <th>362</th>\n",
       "      <td>Marijke van der Lee</td>\n",
       "      <td>8</td>\n",
       "    </tr>\n",
       "    <tr>\n",
       "      <th>494</th>\n",
       "      <td>SAbali_Dreambig</td>\n",
       "      <td>8</td>\n",
       "    </tr>\n",
       "    <tr>\n",
       "      <th>365</th>\n",
       "      <td>Mau.re_en</td>\n",
       "      <td>7</td>\n",
       "    </tr>\n",
       "    <tr>\n",
       "      <th>452</th>\n",
       "      <td>Paradise (Out Now)</td>\n",
       "      <td>6</td>\n",
       "    </tr>\n",
       "    <tr>\n",
       "      <th>574</th>\n",
       "      <td>WORLD MUSIC</td>\n",
       "      <td>5</td>\n",
       "    </tr>\n",
       "  </tbody>\n",
       "</table>\n",
       "</div>"
      ],
      "text/plain": [
       "                           Name  count\n",
       "236               Ghana Yesu ☦️     45\n",
       "489                    Rowland🤍     39\n",
       "387  NATIONAL SERVICE SCHEME 🇬🇭     29\n",
       "604                  eGotickets     17\n",
       "281             Jayke Computers     12\n",
       "362         Marijke van der Lee      8\n",
       "494             SAbali_Dreambig      8\n",
       "365                   Mau.re_en      7\n",
       "452          Paradise (Out Now)      6\n",
       "574                 WORLD MUSIC      5"
      ]
     },
     "execution_count": 33,
     "metadata": {},
     "output_type": "execute_result"
    }
   ],
   "source": [
    "top_users = df[[\"Name\"]].groupby([\"Name\"])[\"Name\"].count().reset_index(name='count').sort_values(['count'], ascending=False).head(10)\n",
    "\n",
    "top_users"
   ]
  },
  {
   "cell_type": "code",
   "execution_count": 43,
   "metadata": {},
   "outputs": [
    {
     "data": {
      "text/plain": [
       "<Figure size 1332x756 with 0 Axes>"
      ]
     },
     "metadata": {},
     "output_type": "display_data"
    }
   ],
   "source": [
    "import matplotlib.pyplot as plt\n",
    "from matplotlib.pyplot import gcf\n",
    "\n",
    "fig = gcf()\n",
    "fig.set_size_inches(18.5, 10.5, forward=True)"
   ]
  },
  {
   "cell_type": "code",
   "execution_count": 44,
   "metadata": {},
   "outputs": [
    {
     "data": {
      "text/plain": [
       "<BarContainer object of 10 artists>"
      ]
     },
     "execution_count": 44,
     "metadata": {},
     "output_type": "execute_result"
    },
    {
     "name": "stderr",
     "output_type": "stream",
     "text": [
      "c:\\Users\\BADASSOU MAWULI\\anaconda3\\lib\\site-packages\\matplotlib\\backends\\backend_agg.py:240: RuntimeWarning: Glyph 129293 missing from current font.\n",
      "  font.set_text(s, 0.0, flags=flags)\n",
      "c:\\Users\\BADASSOU MAWULI\\anaconda3\\lib\\site-packages\\matplotlib\\backends\\backend_agg.py:240: RuntimeWarning: Glyph 127468 missing from current font.\n",
      "  font.set_text(s, 0.0, flags=flags)\n",
      "c:\\Users\\BADASSOU MAWULI\\anaconda3\\lib\\site-packages\\matplotlib\\backends\\backend_agg.py:240: RuntimeWarning: Glyph 127469 missing from current font.\n",
      "  font.set_text(s, 0.0, flags=flags)\n",
      "c:\\Users\\BADASSOU MAWULI\\anaconda3\\lib\\site-packages\\matplotlib\\backends\\backend_agg.py:203: RuntimeWarning: Glyph 129293 missing from current font.\n",
      "  font.set_text(s, 0, flags=flags)\n",
      "c:\\Users\\BADASSOU MAWULI\\anaconda3\\lib\\site-packages\\matplotlib\\backends\\backend_agg.py:203: RuntimeWarning: Glyph 127468 missing from current font.\n",
      "  font.set_text(s, 0, flags=flags)\n",
      "c:\\Users\\BADASSOU MAWULI\\anaconda3\\lib\\site-packages\\matplotlib\\backends\\backend_agg.py:203: RuntimeWarning: Glyph 127469 missing from current font.\n",
      "  font.set_text(s, 0, flags=flags)\n"
     ]
    },
    {
     "data": {
      "image/png": "[encoded data removed]",
      "text/plain": [
       "<Figure size 432x288 with 1 Axes>"
      ]
     },
     "metadata": {
      "needs_background": "light"
     },
     "output_type": "display_data"
    }
   ],
   "source": [
    "plt.bar(top_users[\"Name\"], top_users[\"count\"])"
   ]
  },
  {
   "cell_type": "code",
   "execution_count": 39,
   "metadata": {},
   "outputs": [],
   "source": [
    "#import the library\n",
    "from vaderSentiment.vaderSentiment import SentimentIntensityAnalyzer\n",
    "\n",
    "#calculate the negative, positive, neutral and compound scores, plus verbal evaluation\n",
    "def sentiment_vader(sentence):\n",
    "\n",
    "    # Create a SentimentIntensityAnalyzer object.\n",
    "    sid_obj = SentimentIntensityAnalyzer()\n",
    "\n",
    "    sentiment_dict = sid_obj.polarity_scores(sentence)\n",
    "\n",
    "    if sentiment_dict['compound'] >= 0.05 :\n",
    "        overall_sentiment = \"Positive\"\n",
    "\n",
    "    elif sentiment_dict['compound'] <= - 0.05 :\n",
    "        overall_sentiment = \"Negative\"\n",
    "\n",
    "    else :\n",
    "        overall_sentiment = \"Neutral\"\n",
    "  \n",
    "    return overall_sentiment"
   ]
  },
  {
   "cell_type": "code",
   "execution_count": 40,
   "metadata": {},
   "outputs": [
    {
     "data": {
      "text/html": [
       "<div>\n",
       "<style scoped>\n",
       "    .dataframe tbody tr th:only-of-type {\n",
       "        vertical-align: middle;\n",
       "    }\n",
       "\n",
       "    .dataframe tbody tr th {\n",
       "        vertical-align: top;\n",
       "    }\n",
       "\n",
       "    .dataframe thead th {\n",
       "        text-align: right;\n",
       "    }\n",
       "</style>\n",
       "<table border=\"1\" class=\"dataframe\">\n",
       "  <thead>\n",
       "    <tr style=\"text-align: right;\">\n",
       "      <th></th>\n",
       "      <th>ID</th>\n",
       "      <th>User</th>\n",
       "      <th>Tweet_Text</th>\n",
       "      <th>Date_Created</th>\n",
       "      <th>Lang</th>\n",
       "      <th>Profile_Pic</th>\n",
       "      <th>Name</th>\n",
       "      <th>sentiment</th>\n",
       "    </tr>\n",
       "  </thead>\n",
       "  <tbody>\n",
       "    <tr>\n",
       "      <th>0</th>\n",
       "      <td>1559097380301070337</td>\n",
       "      <td>R_AMedia</td>\n",
       "      <td>#rugbyleague\\nThe Middle East &amp;amp; Africa (ME...</td>\n",
       "      <td>2022-08-15 08:39:16+00:00</td>\n",
       "      <td>en</td>\n",
       "      <td>http://pbs.twimg.com/profile_images/1547498947...</td>\n",
       "      <td>Rachel Ankomah Media</td>\n",
       "      <td>Positive</td>\n",
       "    </tr>\n",
       "    <tr>\n",
       "      <th>1</th>\n",
       "      <td>1559097359501598722</td>\n",
       "      <td>blacksperms_</td>\n",
       "      <td>RT @Amerado_Burner: The only peaceful rest is ...</td>\n",
       "      <td>2022-08-15 08:39:11+00:00</td>\n",
       "      <td>en</td>\n",
       "      <td>http://pbs.twimg.com/profile_images/1532653273...</td>\n",
       "      <td>BLACK SPERMS</td>\n",
       "      <td>Positive</td>\n",
       "    </tr>\n",
       "    <tr>\n",
       "      <th>2</th>\n",
       "      <td>1559097353965109248</td>\n",
       "      <td>NattyLeeCl</td>\n",
       "      <td>RT @the_marcoli_boy: Retweet my pinned tweet a...</td>\n",
       "      <td>2022-08-15 08:39:10+00:00</td>\n",
       "      <td>en</td>\n",
       "      <td>http://pbs.twimg.com/profile_images/1537019507...</td>\n",
       "      <td>🆑♥️♥️♥️</td>\n",
       "      <td>Positive</td>\n",
       "    </tr>\n",
       "    <tr>\n",
       "      <th>3</th>\n",
       "      <td>1559097339717062658</td>\n",
       "      <td>surr_mike</td>\n",
       "      <td>RT @DJ_Sydney_: Welcome to Ghana where basketb...</td>\n",
       "      <td>2022-08-15 08:39:07+00:00</td>\n",
       "      <td>en</td>\n",
       "      <td>http://pbs.twimg.com/profile_images/1553058048...</td>\n",
       "      <td>Free Spirit 🕊</td>\n",
       "      <td>Neutral</td>\n",
       "    </tr>\n",
       "    <tr>\n",
       "      <th>4</th>\n",
       "      <td>1559097334927355904</td>\n",
       "      <td>Hambakubvu</td>\n",
       "      <td>@st_bourke @kiwiwayne2 Zero English in Africa?...</td>\n",
       "      <td>2022-08-15 08:39:05+00:00</td>\n",
       "      <td>en</td>\n",
       "      <td>http://pbs.twimg.com/profile_images/1483866452...</td>\n",
       "      <td>Fork Tailed Drongo</td>\n",
       "      <td>Negative</td>\n",
       "    </tr>\n",
       "  </tbody>\n",
       "</table>\n",
       "</div>"
      ],
      "text/plain": [
       "                    ID          User  \\\n",
       "0  1559097380301070337      R_AMedia   \n",
       "1  1559097359501598722  blacksperms_   \n",
       "2  1559097353965109248    NattyLeeCl   \n",
       "3  1559097339717062658     surr_mike   \n",
       "4  1559097334927355904    Hambakubvu   \n",
       "\n",
       "                                          Tweet_Text  \\\n",
       "0  #rugbyleague\\nThe Middle East &amp; Africa (ME...   \n",
       "1  RT @Amerado_Burner: The only peaceful rest is ...   \n",
       "2  RT @the_marcoli_boy: Retweet my pinned tweet a...   \n",
       "3  RT @DJ_Sydney_: Welcome to Ghana where basketb...   \n",
       "4  @st_bourke @kiwiwayne2 Zero English in Africa?...   \n",
       "\n",
       "                Date_Created Lang  \\\n",
       "0  2022-08-15 08:39:16+00:00   en   \n",
       "1  2022-08-15 08:39:11+00:00   en   \n",
       "2  2022-08-15 08:39:10+00:00   en   \n",
       "3  2022-08-15 08:39:07+00:00   en   \n",
       "4  2022-08-15 08:39:05+00:00   en   \n",
       "\n",
       "                                         Profile_Pic                  Name  \\\n",
       "0  http://pbs.twimg.com/profile_images/1547498947...  Rachel Ankomah Media   \n",
       "1  http://pbs.twimg.com/profile_images/1532653273...          BLACK SPERMS   \n",
       "2  http://pbs.twimg.com/profile_images/1537019507...               🆑♥️♥️♥️   \n",
       "3  http://pbs.twimg.com/profile_images/1553058048...         Free Spirit 🕊   \n",
       "4  http://pbs.twimg.com/profile_images/1483866452...    Fork Tailed Drongo   \n",
       "\n",
       "  sentiment  \n",
       "0  Positive  \n",
       "1  Positive  \n",
       "2  Positive  \n",
       "3   Neutral  \n",
       "4  Negative  "
      ]
     },
     "execution_count": 40,
     "metadata": {},
     "output_type": "execute_result"
    }
   ],
   "source": [
    "df[\"sentiment\"] = df[\"Tweet_Text\"].apply(lambda x: sentiment_vader(str(x)))\n",
    "\n",
    "df.head()"
   ]
  },
  {
   "cell_type": "code",
   "execution_count": 41,
   "metadata": {},
   "outputs": [],
   "source": [
    "import seaborn as sns"
   ]
  },
  {
   "cell_type": "code",
   "execution_count": 42,
   "metadata": {},
   "outputs": [
    {
     "name": "stderr",
     "output_type": "stream",
     "text": [
      "c:\\Users\\BADASSOU MAWULI\\anaconda3\\lib\\site-packages\\seaborn\\_decorators.py:36: FutureWarning: Pass the following variable as a keyword arg: x. From version 0.12, the only valid positional argument will be `data`, and passing other arguments without an explicit keyword will result in an error or misinterpretation.\n",
      "  warnings.warn(\n"
     ]
    },
    {
     "data": {
      "text/plain": [
       "<AxesSubplot:xlabel='sentiment', ylabel='count'>"
      ]
     },
     "execution_count": 42,
     "metadata": {},
     "output_type": "execute_result"
    },
    {
     "data": {
      "image/png": "[encoded data removed]",
      "text/plain": [
       "<Figure size 432x288 with 1 Axes>"
      ]
     },
     "metadata": {
      "needs_background": "light"
     },
     "output_type": "display_data"
    }
   ],
   "source": [
    "sns.countplot(df[\"sentiment\"])"
   ]
  },
  {
   "cell_type": "markdown",
   "metadata": {},
   "source": [
    "More positive tweets having \"ghana\" as a keyword in it"
   ]
  }
 ],
 "metadata": {
  "kernelspec": {
   "display_name": "Python 3.9.7 ('base')",
   "language": "python",
   "name": "python3"
  },
  "language_info": {
   "codemirror_mode": {
    "name": "ipython",
    "version": 3
   },
   "file_extension": ".py",
   "mimetype": "text/x-python",
   "name": "python",
   "nbconvert_exporter": "python",
   "pygments_lexer": "ipython3",
   "version": "3.9.7"
  },
  "orig_nbformat": 4,
  "vscode": {
   "interpreter": {
    "hash": "6c7e1b246a08bd6b54bec8763fb1f365a24995c72d43f90b8f639f5e5c4e3274"
   }
  }
 },
 "nbformat": 4,
 "nbformat_minor": 2
}
